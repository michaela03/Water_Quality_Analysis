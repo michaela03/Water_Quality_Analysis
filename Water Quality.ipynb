{
 "cells": [
  {
   "cell_type": "markdown",
   "id": "203c0ed4",
   "metadata": {},
   "source": [
    "# Water Quality Analysis"
   ]
  },
  {
   "cell_type": "markdown",
   "id": "0eb6047d",
   "metadata": {},
   "source": [
    "\n",
    "## Михаела Коларова, 2201321083, Софтуерно инженерство, 2 курс, 3а група\n"
   ]
  },
  {
   "cell_type": "markdown",
   "id": "acd9d071",
   "metadata": {},
   "source": [
    "## Въведение"
   ]
  },
  {
   "cell_type": "markdown",
   "id": "f3e9975a",
   "metadata": {},
   "source": [
    "В този проект проучваме данни от файла water_potability.csv, който включва показатели за качеството на водата за 3276 различни водни обекта. Достъпът до безопасна питейна вода е от решаващо значение за здравето, основно човешко право и жизненоважен компонент на ефективните политики за опазване на здравето. Този въпрос е от значение на национално, регионално и местно равнище, като са документирани икономически ползи в регионите, където инвестициите във водоснабдяване и канализация надвишават свързаните с тях разходи за здравеопазване."
   ]
  },
  {
   "cell_type": "markdown",
   "id": "9b79b8cb",
   "metadata": {},
   "source": [
    "## Съдържание"
   ]
  },
  {
   "cell_type": "markdown",
   "id": "041133b6",
   "metadata": {},
   "source": [
    "Файлът water_potability.csv включва следните показатели за качеството на водата:\n",
    "\n",
    "* Стойност на pH:\n",
    "Оценява киселинно-алкалния баланс на водата, като текущите стойности варират от 6,52 до 6,83 в рамките на стандартите на СЗО (6,5-8,5).\n",
    "\n",
    "* Твърдост:\n",
    "Основно се дължи на калциеви и магнезиеви соли, които влияят върху способността на водата да утаява сапун.\n",
    "\n",
    "* Твърди вещества (общо разтворени твърди вещества - TDS):\n",
    "Високите стойности на TDS означават силно минерализирана вода, като се отчита способността на водата да разтваря неорганични и някои органични минерали. СЗО препоръчва желаната граница от 500 mg/l и максималната граница от 1000 mg/l за питейни цели.\n",
    "\n",
    "* Хлорамини:\n",
    "Основни дезинфектанти в обществените водоснабдителни системи, които обикновено се образуват при добавяне на амоняк към хлор. Нивата на хлорамина до 4 mg/l се считат за безопасни в питейната вода.\n",
    "\n",
    "* Сулфати:\n",
    "Естествено срещащи се вещества, които се намират в минералите, почвата и скалите, с различна концентрация в сладководните запаси. Търговската употреба на сулфати е широко разпространена в химическата промишленост.\n",
    "\n",
    "* Проводимост:\n",
    "Чистата вода е слаб проводник, но става по-проводима с увеличаване на концентрацията на йони. Стойностите на EC не трябва да надвишават 400 μS/cm според стандартите на СЗО.\n",
    "\n",
    "* Органичен въглерод:\n",
    "Общият органичен въглерод (ООВ) произхожда от разлагащата се органична материя. Американската агенция за опазване на околната среда (US EPA) препоръчва < 2 mg/L TOC в пречистената/питейната вода и < 4 mg/L в изходната вода, използвана за пречистване.\n",
    "\n",
    "* Трихалометани:\n",
    "Химикали, открити във водата, обработена с хлор, с безопасни нива до 80 ppm в питейната вода.\n",
    "\n",
    "* Мътност:\n",
    "Зависи от количеството на твърдите"
   ]
  },
  {
   "cell_type": "code",
   "execution_count": 1,
   "id": "f81c1c21",
   "metadata": {},
   "outputs": [],
   "source": [
    "import pandas as pd\n",
    "import numpy as np\n",
    "import matplotlib.pyplot as plt\n",
    "\n",
    "from sklearn.preprocessing import StandardScaler\n",
    "from sklearn.linear_model import LogisticRegression\n",
    "\n",
    "from sklearn.model_selection import train_test_split\n",
    "from sklearn.metrics import accuracy_score,confusion_matrix,classification_report, ConfusionMatrixDisplay,mean_squared_error, r2_score\n"
   ]
  },
  {
   "cell_type": "markdown",
   "id": "509bd262",
   "metadata": {},
   "source": [
    "# Получаване на данните\n",
    "\n",
    "#### Прочитаме файла water_potability.csv чрез pandas и го задаваме в рамка от данни, наречена water_quality.\n"
   ]
  },
  {
   "cell_type": "code",
   "execution_count": 32,
   "id": "78e04dce",
   "metadata": {},
   "outputs": [],
   "source": [
    "water_quality = pd.read_csv('water_potability.csv')"
   ]
  },
  {
   "cell_type": "markdown",
   "id": "267cd6d8",
   "metadata": {},
   "source": [
    "# Проверяваме информацията за water_potability"
   ]
  },
  {
   "cell_type": "code",
   "execution_count": 5,
   "id": "2a02ce63",
   "metadata": {},
   "outputs": [
    {
     "name": "stdout",
     "output_type": "stream",
     "text": [
      "<class 'pandas.core.frame.DataFrame'>\n",
      "RangeIndex: 3276 entries, 0 to 3275\n",
      "Data columns (total 10 columns):\n",
      " #   Column           Non-Null Count  Dtype  \n",
      "---  ------           --------------  -----  \n",
      " 0   ph               2785 non-null   float64\n",
      " 1   Hardness         3276 non-null   float64\n",
      " 2   Solids           3276 non-null   float64\n",
      " 3   Chloramines      3276 non-null   float64\n",
      " 4   Sulfate          2495 non-null   float64\n",
      " 5   Conductivity     3276 non-null   float64\n",
      " 6   Organic_carbon   3276 non-null   float64\n",
      " 7   Trihalomethanes  3114 non-null   float64\n",
      " 8   Turbidity        3276 non-null   float64\n",
      " 9   Potability       3276 non-null   int64  \n",
      "dtypes: float64(9), int64(1)\n",
      "memory usage: 256.1 KB\n"
     ]
    }
   ],
   "source": [
    "water_quality.info()"
   ]
  },
  {
   "cell_type": "markdown",
   "id": "074b7c50",
   "metadata": {},
   "source": [
    "### Интересно е, че характеристиката \"Potability\" в набора от данни е цяло число, така че не се налага да я преобразуваме (от обект в цяло число за целите на нашето машинно обучение)."
   ]
  },
  {
   "cell_type": "markdown",
   "id": "a2aa9563",
   "metadata": {},
   "source": [
    "## След това можем да проверим първите пет реда на набора от данни"
   ]
  },
  {
   "cell_type": "code",
   "execution_count": 3,
   "id": "66ffdc70",
   "metadata": {},
   "outputs": [
    {
     "data": {
      "text/html": [
       "<div>\n",
       "<style scoped>\n",
       "    .dataframe tbody tr th:only-of-type {\n",
       "        vertical-align: middle;\n",
       "    }\n",
       "\n",
       "    .dataframe tbody tr th {\n",
       "        vertical-align: top;\n",
       "    }\n",
       "\n",
       "    .dataframe thead th {\n",
       "        text-align: right;\n",
       "    }\n",
       "</style>\n",
       "<table border=\"1\" class=\"dataframe\">\n",
       "  <thead>\n",
       "    <tr style=\"text-align: right;\">\n",
       "      <th></th>\n",
       "      <th>ph</th>\n",
       "      <th>Hardness</th>\n",
       "      <th>Solids</th>\n",
       "      <th>Chloramines</th>\n",
       "      <th>Sulfate</th>\n",
       "      <th>Conductivity</th>\n",
       "      <th>Organic_carbon</th>\n",
       "      <th>Trihalomethanes</th>\n",
       "      <th>Turbidity</th>\n",
       "      <th>Potability</th>\n",
       "    </tr>\n",
       "  </thead>\n",
       "  <tbody>\n",
       "    <tr>\n",
       "      <th>0</th>\n",
       "      <td>NaN</td>\n",
       "      <td>204.890455</td>\n",
       "      <td>20791.318981</td>\n",
       "      <td>7.300212</td>\n",
       "      <td>368.516441</td>\n",
       "      <td>564.308654</td>\n",
       "      <td>10.379783</td>\n",
       "      <td>86.990970</td>\n",
       "      <td>2.963135</td>\n",
       "      <td>0</td>\n",
       "    </tr>\n",
       "    <tr>\n",
       "      <th>1</th>\n",
       "      <td>3.716080</td>\n",
       "      <td>129.422921</td>\n",
       "      <td>18630.057858</td>\n",
       "      <td>6.635246</td>\n",
       "      <td>NaN</td>\n",
       "      <td>592.885359</td>\n",
       "      <td>15.180013</td>\n",
       "      <td>56.329076</td>\n",
       "      <td>4.500656</td>\n",
       "      <td>0</td>\n",
       "    </tr>\n",
       "    <tr>\n",
       "      <th>2</th>\n",
       "      <td>8.099124</td>\n",
       "      <td>224.236259</td>\n",
       "      <td>19909.541732</td>\n",
       "      <td>9.275884</td>\n",
       "      <td>NaN</td>\n",
       "      <td>418.606213</td>\n",
       "      <td>16.868637</td>\n",
       "      <td>66.420093</td>\n",
       "      <td>3.055934</td>\n",
       "      <td>0</td>\n",
       "    </tr>\n",
       "    <tr>\n",
       "      <th>3</th>\n",
       "      <td>8.316766</td>\n",
       "      <td>214.373394</td>\n",
       "      <td>22018.417441</td>\n",
       "      <td>8.059332</td>\n",
       "      <td>356.886136</td>\n",
       "      <td>363.266516</td>\n",
       "      <td>18.436524</td>\n",
       "      <td>100.341674</td>\n",
       "      <td>4.628771</td>\n",
       "      <td>0</td>\n",
       "    </tr>\n",
       "    <tr>\n",
       "      <th>4</th>\n",
       "      <td>9.092223</td>\n",
       "      <td>181.101509</td>\n",
       "      <td>17978.986339</td>\n",
       "      <td>6.546600</td>\n",
       "      <td>310.135738</td>\n",
       "      <td>398.410813</td>\n",
       "      <td>11.558279</td>\n",
       "      <td>31.997993</td>\n",
       "      <td>4.075075</td>\n",
       "      <td>0</td>\n",
       "    </tr>\n",
       "  </tbody>\n",
       "</table>\n",
       "</div>"
      ],
      "text/plain": [
       "         ph    Hardness        Solids  Chloramines     Sulfate  Conductivity  \\\n",
       "0       NaN  204.890455  20791.318981     7.300212  368.516441    564.308654   \n",
       "1  3.716080  129.422921  18630.057858     6.635246         NaN    592.885359   \n",
       "2  8.099124  224.236259  19909.541732     9.275884         NaN    418.606213   \n",
       "3  8.316766  214.373394  22018.417441     8.059332  356.886136    363.266516   \n",
       "4  9.092223  181.101509  17978.986339     6.546600  310.135738    398.410813   \n",
       "\n",
       "   Organic_carbon  Trihalomethanes  Turbidity  Potability  \n",
       "0       10.379783        86.990970   2.963135           0  \n",
       "1       15.180013        56.329076   4.500656           0  \n",
       "2       16.868637        66.420093   3.055934           0  \n",
       "3       18.436524       100.341674   4.628771           0  \n",
       "4       11.558279        31.997993   4.075075           0  "
      ]
     },
     "execution_count": 3,
     "metadata": {},
     "output_type": "execute_result"
    }
   ],
   "source": [
    "water_quality.head()"
   ]
  },
  {
   "cell_type": "markdown",
   "id": "3689b77c",
   "metadata": {},
   "source": [
    "### След това ще използваме метода describe(), за да разкрием описателната статистика за набора от данни. \n",
    "### Това ще ни даде съществена статистическа информация за цифровите колони, представяйки подробности като средни стойности, стандартни отклонения и минимални и максимални стойности.\n",
    "\n",
    "\n",
    "\n",
    "\n",
    "\n"
   ]
  },
  {
   "cell_type": "code",
   "execution_count": 4,
   "id": "bf9ae2d5",
   "metadata": {},
   "outputs": [
    {
     "data": {
      "text/html": [
       "<div>\n",
       "<style scoped>\n",
       "    .dataframe tbody tr th:only-of-type {\n",
       "        vertical-align: middle;\n",
       "    }\n",
       "\n",
       "    .dataframe tbody tr th {\n",
       "        vertical-align: top;\n",
       "    }\n",
       "\n",
       "    .dataframe thead th {\n",
       "        text-align: right;\n",
       "    }\n",
       "</style>\n",
       "<table border=\"1\" class=\"dataframe\">\n",
       "  <thead>\n",
       "    <tr style=\"text-align: right;\">\n",
       "      <th></th>\n",
       "      <th>ph</th>\n",
       "      <th>Hardness</th>\n",
       "      <th>Solids</th>\n",
       "      <th>Chloramines</th>\n",
       "      <th>Sulfate</th>\n",
       "      <th>Conductivity</th>\n",
       "      <th>Organic_carbon</th>\n",
       "      <th>Trihalomethanes</th>\n",
       "      <th>Turbidity</th>\n",
       "      <th>Potability</th>\n",
       "    </tr>\n",
       "  </thead>\n",
       "  <tbody>\n",
       "    <tr>\n",
       "      <th>count</th>\n",
       "      <td>2785.000000</td>\n",
       "      <td>3276.000000</td>\n",
       "      <td>3276.000000</td>\n",
       "      <td>3276.000000</td>\n",
       "      <td>2495.000000</td>\n",
       "      <td>3276.000000</td>\n",
       "      <td>3276.000000</td>\n",
       "      <td>3114.000000</td>\n",
       "      <td>3276.000000</td>\n",
       "      <td>3276.000000</td>\n",
       "    </tr>\n",
       "    <tr>\n",
       "      <th>mean</th>\n",
       "      <td>7.080795</td>\n",
       "      <td>196.369496</td>\n",
       "      <td>22014.092526</td>\n",
       "      <td>7.122277</td>\n",
       "      <td>333.775777</td>\n",
       "      <td>426.205111</td>\n",
       "      <td>14.284970</td>\n",
       "      <td>66.396293</td>\n",
       "      <td>3.966786</td>\n",
       "      <td>0.390110</td>\n",
       "    </tr>\n",
       "    <tr>\n",
       "      <th>std</th>\n",
       "      <td>1.594320</td>\n",
       "      <td>32.879761</td>\n",
       "      <td>8768.570828</td>\n",
       "      <td>1.583085</td>\n",
       "      <td>41.416840</td>\n",
       "      <td>80.824064</td>\n",
       "      <td>3.308162</td>\n",
       "      <td>16.175008</td>\n",
       "      <td>0.780382</td>\n",
       "      <td>0.487849</td>\n",
       "    </tr>\n",
       "    <tr>\n",
       "      <th>min</th>\n",
       "      <td>0.000000</td>\n",
       "      <td>47.432000</td>\n",
       "      <td>320.942611</td>\n",
       "      <td>0.352000</td>\n",
       "      <td>129.000000</td>\n",
       "      <td>181.483754</td>\n",
       "      <td>2.200000</td>\n",
       "      <td>0.738000</td>\n",
       "      <td>1.450000</td>\n",
       "      <td>0.000000</td>\n",
       "    </tr>\n",
       "    <tr>\n",
       "      <th>25%</th>\n",
       "      <td>6.093092</td>\n",
       "      <td>176.850538</td>\n",
       "      <td>15666.690297</td>\n",
       "      <td>6.127421</td>\n",
       "      <td>307.699498</td>\n",
       "      <td>365.734414</td>\n",
       "      <td>12.065801</td>\n",
       "      <td>55.844536</td>\n",
       "      <td>3.439711</td>\n",
       "      <td>0.000000</td>\n",
       "    </tr>\n",
       "    <tr>\n",
       "      <th>50%</th>\n",
       "      <td>7.036752</td>\n",
       "      <td>196.967627</td>\n",
       "      <td>20927.833607</td>\n",
       "      <td>7.130299</td>\n",
       "      <td>333.073546</td>\n",
       "      <td>421.884968</td>\n",
       "      <td>14.218338</td>\n",
       "      <td>66.622485</td>\n",
       "      <td>3.955028</td>\n",
       "      <td>0.000000</td>\n",
       "    </tr>\n",
       "    <tr>\n",
       "      <th>75%</th>\n",
       "      <td>8.062066</td>\n",
       "      <td>216.667456</td>\n",
       "      <td>27332.762127</td>\n",
       "      <td>8.114887</td>\n",
       "      <td>359.950170</td>\n",
       "      <td>481.792304</td>\n",
       "      <td>16.557652</td>\n",
       "      <td>77.337473</td>\n",
       "      <td>4.500320</td>\n",
       "      <td>1.000000</td>\n",
       "    </tr>\n",
       "    <tr>\n",
       "      <th>max</th>\n",
       "      <td>14.000000</td>\n",
       "      <td>323.124000</td>\n",
       "      <td>61227.196008</td>\n",
       "      <td>13.127000</td>\n",
       "      <td>481.030642</td>\n",
       "      <td>753.342620</td>\n",
       "      <td>28.300000</td>\n",
       "      <td>124.000000</td>\n",
       "      <td>6.739000</td>\n",
       "      <td>1.000000</td>\n",
       "    </tr>\n",
       "  </tbody>\n",
       "</table>\n",
       "</div>"
      ],
      "text/plain": [
       "                ph     Hardness        Solids  Chloramines      Sulfate  \\\n",
       "count  2785.000000  3276.000000   3276.000000  3276.000000  2495.000000   \n",
       "mean      7.080795   196.369496  22014.092526     7.122277   333.775777   \n",
       "std       1.594320    32.879761   8768.570828     1.583085    41.416840   \n",
       "min       0.000000    47.432000    320.942611     0.352000   129.000000   \n",
       "25%       6.093092   176.850538  15666.690297     6.127421   307.699498   \n",
       "50%       7.036752   196.967627  20927.833607     7.130299   333.073546   \n",
       "75%       8.062066   216.667456  27332.762127     8.114887   359.950170   \n",
       "max      14.000000   323.124000  61227.196008    13.127000   481.030642   \n",
       "\n",
       "       Conductivity  Organic_carbon  Trihalomethanes    Turbidity   Potability  \n",
       "count   3276.000000     3276.000000      3114.000000  3276.000000  3276.000000  \n",
       "mean     426.205111       14.284970        66.396293     3.966786     0.390110  \n",
       "std       80.824064        3.308162        16.175008     0.780382     0.487849  \n",
       "min      181.483754        2.200000         0.738000     1.450000     0.000000  \n",
       "25%      365.734414       12.065801        55.844536     3.439711     0.000000  \n",
       "50%      421.884968       14.218338        66.622485     3.955028     0.000000  \n",
       "75%      481.792304       16.557652        77.337473     4.500320     1.000000  \n",
       "max      753.342620       28.300000       124.000000     6.739000     1.000000  "
      ]
     },
     "execution_count": 4,
     "metadata": {},
     "output_type": "execute_result"
    }
   ],
   "source": [
    "water_quality.describe()"
   ]
  },
  {
   "cell_type": "markdown",
   "id": "0a0c1f73",
   "metadata": {},
   "source": [
    "#### Предоставеният код проверява за наличие на нулеви стойности в набора от данни water_quality, като използва метода isnull()."
   ]
  },
  {
   "cell_type": "code",
   "execution_count": 6,
   "id": "50377f34",
   "metadata": {},
   "outputs": [
    {
     "data": {
      "text/html": [
       "<div>\n",
       "<style scoped>\n",
       "    .dataframe tbody tr th:only-of-type {\n",
       "        vertical-align: middle;\n",
       "    }\n",
       "\n",
       "    .dataframe tbody tr th {\n",
       "        vertical-align: top;\n",
       "    }\n",
       "\n",
       "    .dataframe thead th {\n",
       "        text-align: right;\n",
       "    }\n",
       "</style>\n",
       "<table border=\"1\" class=\"dataframe\">\n",
       "  <thead>\n",
       "    <tr style=\"text-align: right;\">\n",
       "      <th></th>\n",
       "      <th>ph</th>\n",
       "      <th>Hardness</th>\n",
       "      <th>Solids</th>\n",
       "      <th>Chloramines</th>\n",
       "      <th>Sulfate</th>\n",
       "      <th>Conductivity</th>\n",
       "      <th>Organic_carbon</th>\n",
       "      <th>Trihalomethanes</th>\n",
       "      <th>Turbidity</th>\n",
       "      <th>Potability</th>\n",
       "    </tr>\n",
       "  </thead>\n",
       "  <tbody>\n",
       "    <tr>\n",
       "      <th>0</th>\n",
       "      <td>True</td>\n",
       "      <td>False</td>\n",
       "      <td>False</td>\n",
       "      <td>False</td>\n",
       "      <td>False</td>\n",
       "      <td>False</td>\n",
       "      <td>False</td>\n",
       "      <td>False</td>\n",
       "      <td>False</td>\n",
       "      <td>False</td>\n",
       "    </tr>\n",
       "    <tr>\n",
       "      <th>1</th>\n",
       "      <td>False</td>\n",
       "      <td>False</td>\n",
       "      <td>False</td>\n",
       "      <td>False</td>\n",
       "      <td>True</td>\n",
       "      <td>False</td>\n",
       "      <td>False</td>\n",
       "      <td>False</td>\n",
       "      <td>False</td>\n",
       "      <td>False</td>\n",
       "    </tr>\n",
       "    <tr>\n",
       "      <th>2</th>\n",
       "      <td>False</td>\n",
       "      <td>False</td>\n",
       "      <td>False</td>\n",
       "      <td>False</td>\n",
       "      <td>True</td>\n",
       "      <td>False</td>\n",
       "      <td>False</td>\n",
       "      <td>False</td>\n",
       "      <td>False</td>\n",
       "      <td>False</td>\n",
       "    </tr>\n",
       "    <tr>\n",
       "      <th>3</th>\n",
       "      <td>False</td>\n",
       "      <td>False</td>\n",
       "      <td>False</td>\n",
       "      <td>False</td>\n",
       "      <td>False</td>\n",
       "      <td>False</td>\n",
       "      <td>False</td>\n",
       "      <td>False</td>\n",
       "      <td>False</td>\n",
       "      <td>False</td>\n",
       "    </tr>\n",
       "    <tr>\n",
       "      <th>4</th>\n",
       "      <td>False</td>\n",
       "      <td>False</td>\n",
       "      <td>False</td>\n",
       "      <td>False</td>\n",
       "      <td>False</td>\n",
       "      <td>False</td>\n",
       "      <td>False</td>\n",
       "      <td>False</td>\n",
       "      <td>False</td>\n",
       "      <td>False</td>\n",
       "    </tr>\n",
       "    <tr>\n",
       "      <th>...</th>\n",
       "      <td>...</td>\n",
       "      <td>...</td>\n",
       "      <td>...</td>\n",
       "      <td>...</td>\n",
       "      <td>...</td>\n",
       "      <td>...</td>\n",
       "      <td>...</td>\n",
       "      <td>...</td>\n",
       "      <td>...</td>\n",
       "      <td>...</td>\n",
       "    </tr>\n",
       "    <tr>\n",
       "      <th>3271</th>\n",
       "      <td>False</td>\n",
       "      <td>False</td>\n",
       "      <td>False</td>\n",
       "      <td>False</td>\n",
       "      <td>False</td>\n",
       "      <td>False</td>\n",
       "      <td>False</td>\n",
       "      <td>False</td>\n",
       "      <td>False</td>\n",
       "      <td>False</td>\n",
       "    </tr>\n",
       "    <tr>\n",
       "      <th>3272</th>\n",
       "      <td>False</td>\n",
       "      <td>False</td>\n",
       "      <td>False</td>\n",
       "      <td>False</td>\n",
       "      <td>True</td>\n",
       "      <td>False</td>\n",
       "      <td>False</td>\n",
       "      <td>True</td>\n",
       "      <td>False</td>\n",
       "      <td>False</td>\n",
       "    </tr>\n",
       "    <tr>\n",
       "      <th>3273</th>\n",
       "      <td>False</td>\n",
       "      <td>False</td>\n",
       "      <td>False</td>\n",
       "      <td>False</td>\n",
       "      <td>True</td>\n",
       "      <td>False</td>\n",
       "      <td>False</td>\n",
       "      <td>False</td>\n",
       "      <td>False</td>\n",
       "      <td>False</td>\n",
       "    </tr>\n",
       "    <tr>\n",
       "      <th>3274</th>\n",
       "      <td>False</td>\n",
       "      <td>False</td>\n",
       "      <td>False</td>\n",
       "      <td>False</td>\n",
       "      <td>True</td>\n",
       "      <td>False</td>\n",
       "      <td>False</td>\n",
       "      <td>False</td>\n",
       "      <td>False</td>\n",
       "      <td>False</td>\n",
       "    </tr>\n",
       "    <tr>\n",
       "      <th>3275</th>\n",
       "      <td>False</td>\n",
       "      <td>False</td>\n",
       "      <td>False</td>\n",
       "      <td>False</td>\n",
       "      <td>True</td>\n",
       "      <td>False</td>\n",
       "      <td>False</td>\n",
       "      <td>False</td>\n",
       "      <td>False</td>\n",
       "      <td>False</td>\n",
       "    </tr>\n",
       "  </tbody>\n",
       "</table>\n",
       "<p>3276 rows × 10 columns</p>\n",
       "</div>"
      ],
      "text/plain": [
       "         ph  Hardness  Solids  Chloramines  Sulfate  Conductivity  \\\n",
       "0      True     False   False        False    False         False   \n",
       "1     False     False   False        False     True         False   \n",
       "2     False     False   False        False     True         False   \n",
       "3     False     False   False        False    False         False   \n",
       "4     False     False   False        False    False         False   \n",
       "...     ...       ...     ...          ...      ...           ...   \n",
       "3271  False     False   False        False    False         False   \n",
       "3272  False     False   False        False     True         False   \n",
       "3273  False     False   False        False     True         False   \n",
       "3274  False     False   False        False     True         False   \n",
       "3275  False     False   False        False     True         False   \n",
       "\n",
       "      Organic_carbon  Trihalomethanes  Turbidity  Potability  \n",
       "0              False            False      False       False  \n",
       "1              False            False      False       False  \n",
       "2              False            False      False       False  \n",
       "3              False            False      False       False  \n",
       "4              False            False      False       False  \n",
       "...              ...              ...        ...         ...  \n",
       "3271           False            False      False       False  \n",
       "3272           False             True      False       False  \n",
       "3273           False            False      False       False  \n",
       "3274           False            False      False       False  \n",
       "3275           False            False      False       False  \n",
       "\n",
       "[3276 rows x 10 columns]"
      ]
     },
     "execution_count": 6,
     "metadata": {},
     "output_type": "execute_result"
    }
   ],
   "source": [
    "water_quality.isnull()"
   ]
  },
  {
   "cell_type": "code",
   "execution_count": 7,
   "id": "3fc1108c",
   "metadata": {},
   "outputs": [
    {
     "data": {
      "text/plain": [
       "ph                 491\n",
       "Hardness             0\n",
       "Solids               0\n",
       "Chloramines          0\n",
       "Sulfate            781\n",
       "Conductivity         0\n",
       "Organic_carbon       0\n",
       "Trihalomethanes    162\n",
       "Turbidity            0\n",
       "Potability           0\n",
       "dtype: int64"
      ]
     },
     "execution_count": 7,
     "metadata": {},
     "output_type": "execute_result"
    }
   ],
   "source": [
    "water_quality.isnull().sum()"
   ]
  },
  {
   "cell_type": "code",
   "execution_count": 8,
   "id": "bc6c3e31",
   "metadata": {},
   "outputs": [],
   "source": [
    "missing_val_coll = [\"ph\", \"Sulfate\",\"Trihalomethanes\"]"
   ]
  },
  {
   "cell_type": "markdown",
   "id": "b2f1831d",
   "metadata": {},
   "source": [
    "### Впоследствие кодът идентифицира конкретни колони с липсващи стойности, а именно \"ph\", \"Sulfate\" и \"Trihalomethanes\". За всяка колона, съдържаща липсващи стойности, той изчислява средната стойност и попълва липсващите записи с тази средна стойност. Това се постига чрез итеративен процес за всяка съответна колона."
   ]
  },
  {
   "cell_type": "code",
   "execution_count": 9,
   "id": "3135550b",
   "metadata": {},
   "outputs": [],
   "source": [
    "for col in missing_val_coll:\n",
    "    if water_quality[col].isnull().any():\n",
    "        mean = water_quality[col].mean()\n",
    "        water_quality[col].fillna(mean, inplace=True)"
   ]
  },
  {
   "cell_type": "code",
   "execution_count": 10,
   "id": "5d06a1a7",
   "metadata": {},
   "outputs": [
    {
     "data": {
      "text/plain": [
       "ph                 0\n",
       "Hardness           0\n",
       "Solids             0\n",
       "Chloramines        0\n",
       "Sulfate            0\n",
       "Conductivity       0\n",
       "Organic_carbon     0\n",
       "Trihalomethanes    0\n",
       "Turbidity          0\n",
       "Potability         0\n",
       "dtype: int64"
      ]
     },
     "execution_count": 10,
     "metadata": {},
     "output_type": "execute_result"
    }
   ],
   "source": [
    "water_quality.isnull().sum()"
   ]
  },
  {
   "cell_type": "markdown",
   "id": "1ced9809",
   "metadata": {},
   "source": [
    "### Накрая кодът показва актуално обобщение на състоянието на нулевите стойности в набора от данни след обработката на липсващите стойности. Методът isnull().sum() се използва за преброяване и представяне на броя на нулевите стойности във всяка колона."
   ]
  },
  {
   "cell_type": "markdown",
   "id": "fd93afde",
   "metadata": {},
   "source": [
    "# Проверка дали данните са балансирани"
   ]
  },
  {
   "cell_type": "code",
   "execution_count": 11,
   "id": "e821ff5a",
   "metadata": {},
   "outputs": [],
   "source": [
    "wq = water_quality"
   ]
  },
  {
   "cell_type": "code",
   "execution_count": 12,
   "id": "c6e2d752",
   "metadata": {},
   "outputs": [
    {
     "data": {
      "text/plain": [
       "Potability\n",
       "0    1998\n",
       "1    1278\n",
       "Name: count, dtype: int64"
      ]
     },
     "execution_count": 12,
     "metadata": {},
     "output_type": "execute_result"
    }
   ],
   "source": [
    "wq['Potability'].value_counts()"
   ]
  },
  {
   "cell_type": "markdown",
   "id": "48a04bad",
   "metadata": {},
   "source": [
    "#### За да определим дали данните са балансирани, можем да сравним броя на случаите. В този случай данните са небалансирани, тъй като броят на случаите в 0 значително надвишава броя на случаите в 1. Една балансирана съвкупност от данни би имала приблизително равен брой случаи за всеки клас.\n",
    "\n",
    "#### В обобщение, наборът от данни е дисбалансиран по отношение на класовете \"Potability\"."
   ]
  },
  {
   "cell_type": "markdown",
   "id": "bfa8a9c7",
   "metadata": {},
   "source": [
    "# Проучвателен анализ на данните\n",
    "\n",
    "Нека използваме matplotlib, за да направим задълбочено проучване на нашата съвкупност от данни. Първоначално ще се съсредоточим върху разпределението на стойностите на pH, като построим хистограма. В нашата конкретна съвкупност от данни разпределението на pH изглежда следва донякъде нормален модел, съсредоточен в диапазона от 6,5 до 7,0."
   ]
  },
  {
   "cell_type": "code",
   "execution_count": 13,
   "id": "4b9778de",
   "metadata": {},
   "outputs": [
    {
     "data": {
      "image/png": "[encoded data removed]",
      "text/plain": [
       "<Figure size 600x400 with 1 Axes>"
      ]
     },
     "metadata": {},
     "output_type": "display_data"
    }
   ],
   "source": [
    "ph_values = wq['ph']\n",
    "potability_labels = wq['Potability']\n",
    "\n",
    "plt.figure(figsize=(6, 4))\n",
    "plt.hist(ph_values, bins=10, edgecolor='black', alpha=0.7)\n",
    "plt.title('Distribution of pH Values')\n",
    "plt.xlabel('pH')\n",
    "plt.ylabel('Frequency')\n",
    "plt.show()"
   ]
  },
  {
   "cell_type": "markdown",
   "id": "df008da2",
   "metadata": {},
   "source": [
    "### Използвахме matplotlib, за да се запознаем с конкретни параметри. Фокусирайки се върху разпределението на концентрацията на разтворени твърди вещества, хистограмата разкрива прозрения за променливостта на този важен параметър в набора от данни. Визуализацията подчертава честотното разпределение на концентрацията на разтворени твърди вещества, като подпомага разбирането ни за нейното разпространение и разпределение в набора от данни за качеството на водата."
   ]
  },
  {
   "cell_type": "code",
   "execution_count": 33,
   "id": "bb2d3625",
   "metadata": {},
   "outputs": [
    {
     "data": {
      "image/png": "[encoded data removed]",
      "text/plain": [
       "<Figure size 600x400 with 1 Axes>"
      ]
     },
     "metadata": {},
     "output_type": "display_data"
    }
   ],
   "source": [
    "solids_values = wq['Solids']\n",
    "potability_labels = wq['Potability']\n",
    "\n",
    "plt.figure(figsize=(6, 4))\n",
    "plt.hist(solids_values, bins=10, edgecolor='black', alpha=0.7)\n",
    "plt.title('Distribution of Dissolved Solids Concentration')\n",
    "plt.xlabel('Solids Concentration')\n",
    "plt.ylabel('Frequency')\n",
    "plt.show()"
   ]
  },
  {
   "cell_type": "markdown",
   "id": "4bbcd703",
   "metadata": {},
   "source": [
    "# Разпределение на концентрацията на твърди вещества за питейна и непитейна вода"
   ]
  },
  {
   "cell_type": "markdown",
   "id": "9c879220",
   "metadata": {},
   "source": [
    "Хистограмата илюстрира разпределението на концентрацията на разтворени твърди вещества във водата, като се прави разграничение между питейни (зелено) и непитейни (жълто) случаи. Оста x представлява концентрацията на разтворените твърди вещества, а оста y показва броя на случаите.\n",
    "\n",
    "Наблюдавайки хистограмата, можем да забележим вариациите в концентрацията на разтворени твърди вещества както за питейните, така и за непитейните водоизточници. Тази визуализация дава представа за различията в моделите на разпределение на разтворените твърди вещества, като подпомага изследването на потенциалните различия между класовете на водата за питейни нужди."
   ]
  },
  {
   "cell_type": "code",
   "execution_count": 15,
   "id": "1be0d9ae",
   "metadata": {},
   "outputs": [
    {
     "data": {
      "image/png": "[encoded data removed]",
      "text/plain": [
       "<Figure size 640x480 with 1 Axes>"
      ]
     },
     "metadata": {},
     "output_type": "display_data"
    }
   ],
   "source": [
    "potable_filter = wq['Potability'] == 1\n",
    "non_potable_filter = wq['Potability'] == 0\n",
    "\n",
    "# Създаване на хистограма за концентрацията на разтворени твърди вещества\n",
    "plt.hist(wq[potable_filter]['Solids'], alpha=0.6, color='green')\n",
    "plt.hist(wq[non_potable_filter]['Solids'], alpha=0.6, color='yellow')\n",
    "\n",
    "plt.xlabel('Solids Concentration')\n",
    "plt.ylabel('Count')\n",
    "plt.title('Distribution of Solids Concentration for Potable and Non-Potable Water')\n",
    "\n",
    "plt.legend(['Potable Water', 'Non-Potable Water'])\n",
    "\n",
    "plt.show()"
   ]
  },
  {
   "cell_type": "markdown",
   "id": "b2a2bb8f",
   "metadata": {},
   "source": [
    "# Разпределение на годността на водата"
   ]
  },
  {
   "cell_type": "markdown",
   "id": "20f14562",
   "metadata": {},
   "source": [
    "Кръговата диаграма представя ясно разпределението на питателността на водата в набора от данни. Случаите са категоризирани в два класа: \"Не питейна\" и \"Питейна\". Диаграмата осигурява визуално представяне на дела на всеки клас, като класът \"Питейна\" е представен в светло коралово, а класът \"Не питейна\" - в небесносиньо.\n",
    "\n",
    "Наблюдавайки диаграмата, можем лесно да забележим относителното разпределение на случаите на питейна и непитейна вода, което помага да се разбере цялостното равновесие или дисбаланс между тези два класа в набора от данни."
   ]
  },
  {
   "cell_type": "code",
   "execution_count": 16,
   "id": "5bc07352",
   "metadata": {},
   "outputs": [
    {
     "data": {
      "image/png": "[encoded data removed]",
      "text/plain": [
       "<Figure size 640x480 with 1 Axes>"
      ]
     },
     "metadata": {},
     "output_type": "display_data"
    }
   ],
   "source": [
    "water_type_counts = wq.groupby('Potability').size()\n",
    "\n",
    "# Промяна на индексите във water_type_counts\n",
    "water_type_counts.index = ['Non Potability', 'Potability']\n",
    "\n",
    "# Създаване на кръгова диаграма\n",
    "plt.gca().set_aspect(\"equal\")\n",
    "plt.pie(water_type_counts, labels=water_type_counts.index, autopct=\"%.2f%%\", colors=['skyblue', 'lightcoral'])\n",
    "plt.title(\"Water Potability Distribution\")\n",
    "plt.show()"
   ]
  },
  {
   "cell_type": "markdown",
   "id": "577f57f2",
   "metadata": {},
   "source": [
    "При анализа на набора от данни се вижда, че приблизително 61% от случаите са класифицирани като \"Непитейна вода\" (0), а по-малка част (приблизително 39%) са обозначени като \"Питейна вода\" (1).\n",
    "\n",
    "Баланс на класовете:\n",
    "\n",
    "Разпределението между \"Непитейна вода\" и \"Питейна вода\" не е равномерно, като по-голяма част от тях попадат в категорията \"Непитейна вода\". Наборът от данни показва дисбаланс между двата класа, което показва по-голям брой екземпляри, класифицирани като \"Непитейна вода\", в сравнение с \"Питейна вода\"."
   ]
  },
  {
   "cell_type": "code",
   "execution_count": 17,
   "id": "eb86b72b",
   "metadata": {},
   "outputs": [
    {
     "data": {
      "text/html": [
       "<div>\n",
       "<style scoped>\n",
       "    .dataframe tbody tr th:only-of-type {\n",
       "        vertical-align: middle;\n",
       "    }\n",
       "\n",
       "    .dataframe tbody tr th {\n",
       "        vertical-align: top;\n",
       "    }\n",
       "\n",
       "    .dataframe thead th {\n",
       "        text-align: right;\n",
       "    }\n",
       "</style>\n",
       "<table border=\"1\" class=\"dataframe\">\n",
       "  <thead>\n",
       "    <tr style=\"text-align: right;\">\n",
       "      <th></th>\n",
       "      <th>ph</th>\n",
       "      <th>Hardness</th>\n",
       "      <th>Solids</th>\n",
       "      <th>Chloramines</th>\n",
       "      <th>Sulfate</th>\n",
       "      <th>Conductivity</th>\n",
       "      <th>Organic_carbon</th>\n",
       "      <th>Trihalomethanes</th>\n",
       "      <th>Turbidity</th>\n",
       "      <th>Potability</th>\n",
       "    </tr>\n",
       "  </thead>\n",
       "  <tbody>\n",
       "    <tr>\n",
       "      <th>ph</th>\n",
       "      <td>1.000000</td>\n",
       "      <td>0.075833</td>\n",
       "      <td>-0.081884</td>\n",
       "      <td>-0.031811</td>\n",
       "      <td>0.014403</td>\n",
       "      <td>0.017192</td>\n",
       "      <td>0.040061</td>\n",
       "      <td>0.002994</td>\n",
       "      <td>-0.036222</td>\n",
       "      <td>-0.003287</td>\n",
       "    </tr>\n",
       "    <tr>\n",
       "      <th>Hardness</th>\n",
       "      <td>0.075833</td>\n",
       "      <td>1.000000</td>\n",
       "      <td>-0.046899</td>\n",
       "      <td>-0.030054</td>\n",
       "      <td>-0.092766</td>\n",
       "      <td>-0.023915</td>\n",
       "      <td>0.003610</td>\n",
       "      <td>-0.012690</td>\n",
       "      <td>-0.014449</td>\n",
       "      <td>-0.013837</td>\n",
       "    </tr>\n",
       "    <tr>\n",
       "      <th>Solids</th>\n",
       "      <td>-0.081884</td>\n",
       "      <td>-0.046899</td>\n",
       "      <td>1.000000</td>\n",
       "      <td>-0.070148</td>\n",
       "      <td>-0.149840</td>\n",
       "      <td>0.013831</td>\n",
       "      <td>0.010242</td>\n",
       "      <td>-0.008875</td>\n",
       "      <td>0.019546</td>\n",
       "      <td>0.033743</td>\n",
       "    </tr>\n",
       "    <tr>\n",
       "      <th>Chloramines</th>\n",
       "      <td>-0.031811</td>\n",
       "      <td>-0.030054</td>\n",
       "      <td>-0.070148</td>\n",
       "      <td>1.000000</td>\n",
       "      <td>0.023791</td>\n",
       "      <td>-0.020486</td>\n",
       "      <td>-0.012653</td>\n",
       "      <td>0.016627</td>\n",
       "      <td>0.002363</td>\n",
       "      <td>0.023779</td>\n",
       "    </tr>\n",
       "    <tr>\n",
       "      <th>Sulfate</th>\n",
       "      <td>0.014403</td>\n",
       "      <td>-0.092766</td>\n",
       "      <td>-0.149840</td>\n",
       "      <td>0.023791</td>\n",
       "      <td>1.000000</td>\n",
       "      <td>-0.014059</td>\n",
       "      <td>0.026909</td>\n",
       "      <td>-0.025605</td>\n",
       "      <td>-0.009790</td>\n",
       "      <td>-0.020619</td>\n",
       "    </tr>\n",
       "    <tr>\n",
       "      <th>Conductivity</th>\n",
       "      <td>0.017192</td>\n",
       "      <td>-0.023915</td>\n",
       "      <td>0.013831</td>\n",
       "      <td>-0.020486</td>\n",
       "      <td>-0.014059</td>\n",
       "      <td>1.000000</td>\n",
       "      <td>0.020966</td>\n",
       "      <td>0.001255</td>\n",
       "      <td>0.005798</td>\n",
       "      <td>-0.008128</td>\n",
       "    </tr>\n",
       "    <tr>\n",
       "      <th>Organic_carbon</th>\n",
       "      <td>0.040061</td>\n",
       "      <td>0.003610</td>\n",
       "      <td>0.010242</td>\n",
       "      <td>-0.012653</td>\n",
       "      <td>0.026909</td>\n",
       "      <td>0.020966</td>\n",
       "      <td>1.000000</td>\n",
       "      <td>-0.012976</td>\n",
       "      <td>-0.027308</td>\n",
       "      <td>-0.030001</td>\n",
       "    </tr>\n",
       "    <tr>\n",
       "      <th>Trihalomethanes</th>\n",
       "      <td>0.002994</td>\n",
       "      <td>-0.012690</td>\n",
       "      <td>-0.008875</td>\n",
       "      <td>0.016627</td>\n",
       "      <td>-0.025605</td>\n",
       "      <td>0.001255</td>\n",
       "      <td>-0.012976</td>\n",
       "      <td>1.000000</td>\n",
       "      <td>-0.021502</td>\n",
       "      <td>0.006960</td>\n",
       "    </tr>\n",
       "    <tr>\n",
       "      <th>Turbidity</th>\n",
       "      <td>-0.036222</td>\n",
       "      <td>-0.014449</td>\n",
       "      <td>0.019546</td>\n",
       "      <td>0.002363</td>\n",
       "      <td>-0.009790</td>\n",
       "      <td>0.005798</td>\n",
       "      <td>-0.027308</td>\n",
       "      <td>-0.021502</td>\n",
       "      <td>1.000000</td>\n",
       "      <td>0.001581</td>\n",
       "    </tr>\n",
       "    <tr>\n",
       "      <th>Potability</th>\n",
       "      <td>-0.003287</td>\n",
       "      <td>-0.013837</td>\n",
       "      <td>0.033743</td>\n",
       "      <td>0.023779</td>\n",
       "      <td>-0.020619</td>\n",
       "      <td>-0.008128</td>\n",
       "      <td>-0.030001</td>\n",
       "      <td>0.006960</td>\n",
       "      <td>0.001581</td>\n",
       "      <td>1.000000</td>\n",
       "    </tr>\n",
       "  </tbody>\n",
       "</table>\n",
       "</div>"
      ],
      "text/plain": [
       "                       ph  Hardness    Solids  Chloramines   Sulfate  \\\n",
       "ph               1.000000  0.075833 -0.081884    -0.031811  0.014403   \n",
       "Hardness         0.075833  1.000000 -0.046899    -0.030054 -0.092766   \n",
       "Solids          -0.081884 -0.046899  1.000000    -0.070148 -0.149840   \n",
       "Chloramines     -0.031811 -0.030054 -0.070148     1.000000  0.023791   \n",
       "Sulfate          0.014403 -0.092766 -0.149840     0.023791  1.000000   \n",
       "Conductivity     0.017192 -0.023915  0.013831    -0.020486 -0.014059   \n",
       "Organic_carbon   0.040061  0.003610  0.010242    -0.012653  0.026909   \n",
       "Trihalomethanes  0.002994 -0.012690 -0.008875     0.016627 -0.025605   \n",
       "Turbidity       -0.036222 -0.014449  0.019546     0.002363 -0.009790   \n",
       "Potability      -0.003287 -0.013837  0.033743     0.023779 -0.020619   \n",
       "\n",
       "                 Conductivity  Organic_carbon  Trihalomethanes  Turbidity  \\\n",
       "ph                   0.017192        0.040061         0.002994  -0.036222   \n",
       "Hardness            -0.023915        0.003610        -0.012690  -0.014449   \n",
       "Solids               0.013831        0.010242        -0.008875   0.019546   \n",
       "Chloramines         -0.020486       -0.012653         0.016627   0.002363   \n",
       "Sulfate             -0.014059        0.026909        -0.025605  -0.009790   \n",
       "Conductivity         1.000000        0.020966         0.001255   0.005798   \n",
       "Organic_carbon       0.020966        1.000000        -0.012976  -0.027308   \n",
       "Trihalomethanes      0.001255       -0.012976         1.000000  -0.021502   \n",
       "Turbidity            0.005798       -0.027308        -0.021502   1.000000   \n",
       "Potability          -0.008128       -0.030001         0.006960   0.001581   \n",
       "\n",
       "                 Potability  \n",
       "ph                -0.003287  \n",
       "Hardness          -0.013837  \n",
       "Solids             0.033743  \n",
       "Chloramines        0.023779  \n",
       "Sulfate           -0.020619  \n",
       "Conductivity      -0.008128  \n",
       "Organic_carbon    -0.030001  \n",
       "Trihalomethanes    0.006960  \n",
       "Turbidity          0.001581  \n",
       "Potability         1.000000  "
      ]
     },
     "execution_count": 17,
     "metadata": {},
     "output_type": "execute_result"
    }
   ],
   "source": [
    "wq.corr()"
   ]
  },
  {
   "cell_type": "markdown",
   "id": "3a8eb015",
   "metadata": {},
   "source": [
    "Корелационната матрица отразява връзките между различните параметри в набора от данни за качеството на водата. Основните наблюдения включват липсата на силна линейна корелация между годността на водата и стойностите на рН, както и между годността на водата и твърдостта на водата. Това подчертава значението на използването на различни параметри за цялостна оценка на качеството на водата.\n",
    "\n",
    "Въпреки че се забелязват някои слаби корелации между определени параметри, те обикновено са ограничени. Например слаба отрицателна корелация се наблюдава между твърдостта на водата и съдържанието на органичен въглерод, както и между мътността и съдържанието на органичен въглерод.\n",
    "\n",
    "Тези наблюдения подчертават сложността на взаимодействията в системата за качество на водата и подчертават необходимостта от нюансиран подход при анализа на факторите, които оказват влияние върху годността на водата за пиене и цялостното ѝ качество."
   ]
  },
  {
   "cell_type": "code",
   "execution_count": 30,
   "id": "a86d5833",
   "metadata": {},
   "outputs": [
    {
     "data": {
      "image/png": "[encoded data removed]",
      "text/plain": [
       "<Figure size 600x600 with 2 Axes>"
      ]
     },
     "metadata": {},
     "output_type": "display_data"
    }
   ],
   "source": [
    "def plot_corr(dataframe, size=6):\n",
    "    \n",
    "    corr = dataframe.corr()\n",
    "\n",
    "    fig, ax = plt.subplots(figsize=(size, size))\n",
    "    cax = ax.matshow(corr, cmap='cool')\n",
    "    plt.xticks(range(len(corr.columns)), corr.columns, rotation=90)\n",
    "    plt.yticks(range(len(corr.columns)), corr.columns)\n",
    "    plt.colorbar(cax)\n",
    "    \n",
    "plot_corr(wq)\n",
    "plt.show()"
   ]
  },
  {
   "cell_type": "markdown",
   "id": "f1c583e3",
   "metadata": {},
   "source": [
    "Предоставената функция на Python, plot_corr, е предназначена за създаване и показване на топлинна карта на корелационната матрица за дадена DataFrame, като размерът по подразбиране е 6. Функцията използва метода corr, за да изчисли коефициентите на корелация между различните параметри в набора от данни.\n",
    "\n",
    "При изпълнение на функцията се генерира фигура от Matplotlib, която показва топлинната карта на корелационната матрица. Цветовете в топлинната карта визуално представят силата и посоката на корелациите: по-студените тонове означават отрицателни корелации, а по-топлите - положителни корелации. Етикетите на осите x и y в топлинната карта съответстват на различните параметри в набора от данни."
   ]
  },
  {
   "cell_type": "code",
   "execution_count": 31,
   "id": "a071a747",
   "metadata": {},
   "outputs": [
    {
     "data": {
      "text/html": [
       "<style type=\"text/css\">\n",
       "#T_aef18_row0_col0, #T_aef18_row1_col1, #T_aef18_row2_col2, #T_aef18_row3_col3, #T_aef18_row4_col4, #T_aef18_row5_col5, #T_aef18_row6_col6, #T_aef18_row7_col7, #T_aef18_row8_col8, #T_aef18_row9_col9 {\n",
       "  background-color: #ff00ff;\n",
       "  color: #f1f1f1;\n",
       "}\n",
       "#T_aef18_row0_col1, #T_aef18_row6_col4 {\n",
       "  background-color: #27d8ff;\n",
       "  color: #000000;\n",
       "}\n",
       "#T_aef18_row0_col2, #T_aef18_row2_col9 {\n",
       "  background-color: #0ff0ff;\n",
       "  color: #000000;\n",
       "}\n",
       "#T_aef18_row0_col3, #T_aef18_row1_col3, #T_aef18_row2_col5, #T_aef18_row3_col8, #T_aef18_row7_col9, #T_aef18_row9_col8 {\n",
       "  background-color: #09f6ff;\n",
       "  color: #000000;\n",
       "}\n",
       "#T_aef18_row0_col4, #T_aef18_row5_col2 {\n",
       "  background-color: #24dbff;\n",
       "  color: #000000;\n",
       "}\n",
       "#T_aef18_row0_col5, #T_aef18_row2_col1, #T_aef18_row2_col6, #T_aef18_row3_col7, #T_aef18_row5_col8, #T_aef18_row8_col0 {\n",
       "  background-color: #0af5ff;\n",
       "  color: #000000;\n",
       "}\n",
       "#T_aef18_row0_col6, #T_aef18_row3_col2, #T_aef18_row8_col3 {\n",
       "  background-color: #11eeff;\n",
       "  color: #000000;\n",
       "}\n",
       "#T_aef18_row0_col7, #T_aef18_row8_col5, #T_aef18_row8_col9 {\n",
       "  background-color: #07f8ff;\n",
       "  color: #000000;\n",
       "}\n",
       "#T_aef18_row0_col8, #T_aef18_row1_col5, #T_aef18_row2_col0, #T_aef18_row2_col3, #T_aef18_row2_col4, #T_aef18_row3_col5, #T_aef18_row4_col1, #T_aef18_row4_col2, #T_aef18_row4_col7, #T_aef18_row6_col9, #T_aef18_row8_col6, #T_aef18_row9_col6 {\n",
       "  background-color: #00ffff;\n",
       "  color: #000000;\n",
       "}\n",
       "#T_aef18_row0_col9, #T_aef18_row4_col8, #T_aef18_row5_col7, #T_aef18_row7_col5 {\n",
       "  background-color: #06f9ff;\n",
       "  color: #000000;\n",
       "}\n",
       "#T_aef18_row1_col0, #T_aef18_row8_col2 {\n",
       "  background-color: #25daff;\n",
       "  color: #000000;\n",
       "}\n",
       "#T_aef18_row1_col2, #T_aef18_row4_col0, #T_aef18_row4_col3, #T_aef18_row6_col1, #T_aef18_row9_col3 {\n",
       "  background-color: #16e9ff;\n",
       "  color: #000000;\n",
       "}\n",
       "#T_aef18_row1_col4, #T_aef18_row5_col6 {\n",
       "  background-color: #0cf3ff;\n",
       "  color: #000000;\n",
       "}\n",
       "#T_aef18_row1_col6, #T_aef18_row9_col7 {\n",
       "  background-color: #08f7ff;\n",
       "  color: #000000;\n",
       "}\n",
       "#T_aef18_row1_col7, #T_aef18_row6_col7, #T_aef18_row7_col8, #T_aef18_row9_col5 {\n",
       "  background-color: #03fcff;\n",
       "  color: #000000;\n",
       "}\n",
       "#T_aef18_row1_col8, #T_aef18_row5_col9 {\n",
       "  background-color: #05faff;\n",
       "  color: #000000;\n",
       "}\n",
       "#T_aef18_row1_col9, #T_aef18_row2_col7, #T_aef18_row3_col6, #T_aef18_row7_col6 {\n",
       "  background-color: #04fbff;\n",
       "  color: #000000;\n",
       "}\n",
       "#T_aef18_row2_col8, #T_aef18_row3_col9, #T_aef18_row6_col3 {\n",
       "  background-color: #0df2ff;\n",
       "  color: #000000;\n",
       "}\n",
       "#T_aef18_row3_col0, #T_aef18_row5_col3, #T_aef18_row6_col5 {\n",
       "  background-color: #0bf4ff;\n",
       "  color: #000000;\n",
       "}\n",
       "#T_aef18_row3_col1, #T_aef18_row4_col6 {\n",
       "  background-color: #0ef1ff;\n",
       "  color: #000000;\n",
       "}\n",
       "#T_aef18_row3_col4 {\n",
       "  background-color: #26d9ff;\n",
       "  color: #000000;\n",
       "}\n",
       "#T_aef18_row4_col5, #T_aef18_row4_col9, #T_aef18_row6_col8 {\n",
       "  background-color: #02fdff;\n",
       "  color: #000000;\n",
       "}\n",
       "#T_aef18_row5_col0 {\n",
       "  background-color: #17e8ff;\n",
       "  color: #000000;\n",
       "}\n",
       "#T_aef18_row5_col1 {\n",
       "  background-color: #10efff;\n",
       "  color: #000000;\n",
       "}\n",
       "#T_aef18_row5_col4 {\n",
       "  background-color: #1ee1ff;\n",
       "  color: #000000;\n",
       "}\n",
       "#T_aef18_row6_col0, #T_aef18_row9_col4 {\n",
       "  background-color: #1ce3ff;\n",
       "  color: #000000;\n",
       "}\n",
       "#T_aef18_row6_col2 {\n",
       "  background-color: #23dcff;\n",
       "  color: #000000;\n",
       "}\n",
       "#T_aef18_row7_col0, #T_aef18_row7_col3 {\n",
       "  background-color: #14ebff;\n",
       "  color: #000000;\n",
       "}\n",
       "#T_aef18_row7_col1, #T_aef18_row8_col1, #T_aef18_row9_col0, #T_aef18_row9_col1 {\n",
       "  background-color: #12edff;\n",
       "  color: #000000;\n",
       "}\n",
       "#T_aef18_row7_col2, #T_aef18_row8_col4 {\n",
       "  background-color: #1fe0ff;\n",
       "  color: #000000;\n",
       "}\n",
       "#T_aef18_row7_col4 {\n",
       "  background-color: #1be4ff;\n",
       "  color: #000000;\n",
       "}\n",
       "#T_aef18_row8_col7 {\n",
       "  background-color: #01feff;\n",
       "  color: #000000;\n",
       "}\n",
       "#T_aef18_row9_col2 {\n",
       "  background-color: #28d7ff;\n",
       "  color: #000000;\n",
       "}\n",
       "</style>\n",
       "<table id=\"T_aef18\">\n",
       "  <thead>\n",
       "    <tr>\n",
       "      <th class=\"blank level0\" >&nbsp;</th>\n",
       "      <th id=\"T_aef18_level0_col0\" class=\"col_heading level0 col0\" >ph</th>\n",
       "      <th id=\"T_aef18_level0_col1\" class=\"col_heading level0 col1\" >Hardness</th>\n",
       "      <th id=\"T_aef18_level0_col2\" class=\"col_heading level0 col2\" >Solids</th>\n",
       "      <th id=\"T_aef18_level0_col3\" class=\"col_heading level0 col3\" >Chloramines</th>\n",
       "      <th id=\"T_aef18_level0_col4\" class=\"col_heading level0 col4\" >Sulfate</th>\n",
       "      <th id=\"T_aef18_level0_col5\" class=\"col_heading level0 col5\" >Conductivity</th>\n",
       "      <th id=\"T_aef18_level0_col6\" class=\"col_heading level0 col6\" >Organic_carbon</th>\n",
       "      <th id=\"T_aef18_level0_col7\" class=\"col_heading level0 col7\" >Trihalomethanes</th>\n",
       "      <th id=\"T_aef18_level0_col8\" class=\"col_heading level0 col8\" >Turbidity</th>\n",
       "      <th id=\"T_aef18_level0_col9\" class=\"col_heading level0 col9\" >Potability</th>\n",
       "    </tr>\n",
       "  </thead>\n",
       "  <tbody>\n",
       "    <tr>\n",
       "      <th id=\"T_aef18_level0_row0\" class=\"row_heading level0 row0\" >ph</th>\n",
       "      <td id=\"T_aef18_row0_col0\" class=\"data row0 col0\" >1.000000</td>\n",
       "      <td id=\"T_aef18_row0_col1\" class=\"data row0 col1\" >0.075833</td>\n",
       "      <td id=\"T_aef18_row0_col2\" class=\"data row0 col2\" >-0.081884</td>\n",
       "      <td id=\"T_aef18_row0_col3\" class=\"data row0 col3\" >-0.031811</td>\n",
       "      <td id=\"T_aef18_row0_col4\" class=\"data row0 col4\" >0.014403</td>\n",
       "      <td id=\"T_aef18_row0_col5\" class=\"data row0 col5\" >0.017192</td>\n",
       "      <td id=\"T_aef18_row0_col6\" class=\"data row0 col6\" >0.040061</td>\n",
       "      <td id=\"T_aef18_row0_col7\" class=\"data row0 col7\" >0.002994</td>\n",
       "      <td id=\"T_aef18_row0_col8\" class=\"data row0 col8\" >-0.036222</td>\n",
       "      <td id=\"T_aef18_row0_col9\" class=\"data row0 col9\" >-0.003287</td>\n",
       "    </tr>\n",
       "    <tr>\n",
       "      <th id=\"T_aef18_level0_row1\" class=\"row_heading level0 row1\" >Hardness</th>\n",
       "      <td id=\"T_aef18_row1_col0\" class=\"data row1 col0\" >0.075833</td>\n",
       "      <td id=\"T_aef18_row1_col1\" class=\"data row1 col1\" >1.000000</td>\n",
       "      <td id=\"T_aef18_row1_col2\" class=\"data row1 col2\" >-0.046899</td>\n",
       "      <td id=\"T_aef18_row1_col3\" class=\"data row1 col3\" >-0.030054</td>\n",
       "      <td id=\"T_aef18_row1_col4\" class=\"data row1 col4\" >-0.092766</td>\n",
       "      <td id=\"T_aef18_row1_col5\" class=\"data row1 col5\" >-0.023915</td>\n",
       "      <td id=\"T_aef18_row1_col6\" class=\"data row1 col6\" >0.003610</td>\n",
       "      <td id=\"T_aef18_row1_col7\" class=\"data row1 col7\" >-0.012690</td>\n",
       "      <td id=\"T_aef18_row1_col8\" class=\"data row1 col8\" >-0.014449</td>\n",
       "      <td id=\"T_aef18_row1_col9\" class=\"data row1 col9\" >-0.013837</td>\n",
       "    </tr>\n",
       "    <tr>\n",
       "      <th id=\"T_aef18_level0_row2\" class=\"row_heading level0 row2\" >Solids</th>\n",
       "      <td id=\"T_aef18_row2_col0\" class=\"data row2 col0\" >-0.081884</td>\n",
       "      <td id=\"T_aef18_row2_col1\" class=\"data row2 col1\" >-0.046899</td>\n",
       "      <td id=\"T_aef18_row2_col2\" class=\"data row2 col2\" >1.000000</td>\n",
       "      <td id=\"T_aef18_row2_col3\" class=\"data row2 col3\" >-0.070148</td>\n",
       "      <td id=\"T_aef18_row2_col4\" class=\"data row2 col4\" >-0.149840</td>\n",
       "      <td id=\"T_aef18_row2_col5\" class=\"data row2 col5\" >0.013831</td>\n",
       "      <td id=\"T_aef18_row2_col6\" class=\"data row2 col6\" >0.010242</td>\n",
       "      <td id=\"T_aef18_row2_col7\" class=\"data row2 col7\" >-0.008875</td>\n",
       "      <td id=\"T_aef18_row2_col8\" class=\"data row2 col8\" >0.019546</td>\n",
       "      <td id=\"T_aef18_row2_col9\" class=\"data row2 col9\" >0.033743</td>\n",
       "    </tr>\n",
       "    <tr>\n",
       "      <th id=\"T_aef18_level0_row3\" class=\"row_heading level0 row3\" >Chloramines</th>\n",
       "      <td id=\"T_aef18_row3_col0\" class=\"data row3 col0\" >-0.031811</td>\n",
       "      <td id=\"T_aef18_row3_col1\" class=\"data row3 col1\" >-0.030054</td>\n",
       "      <td id=\"T_aef18_row3_col2\" class=\"data row3 col2\" >-0.070148</td>\n",
       "      <td id=\"T_aef18_row3_col3\" class=\"data row3 col3\" >1.000000</td>\n",
       "      <td id=\"T_aef18_row3_col4\" class=\"data row3 col4\" >0.023791</td>\n",
       "      <td id=\"T_aef18_row3_col5\" class=\"data row3 col5\" >-0.020486</td>\n",
       "      <td id=\"T_aef18_row3_col6\" class=\"data row3 col6\" >-0.012653</td>\n",
       "      <td id=\"T_aef18_row3_col7\" class=\"data row3 col7\" >0.016627</td>\n",
       "      <td id=\"T_aef18_row3_col8\" class=\"data row3 col8\" >0.002363</td>\n",
       "      <td id=\"T_aef18_row3_col9\" class=\"data row3 col9\" >0.023779</td>\n",
       "    </tr>\n",
       "    <tr>\n",
       "      <th id=\"T_aef18_level0_row4\" class=\"row_heading level0 row4\" >Sulfate</th>\n",
       "      <td id=\"T_aef18_row4_col0\" class=\"data row4 col0\" >0.014403</td>\n",
       "      <td id=\"T_aef18_row4_col1\" class=\"data row4 col1\" >-0.092766</td>\n",
       "      <td id=\"T_aef18_row4_col2\" class=\"data row4 col2\" >-0.149840</td>\n",
       "      <td id=\"T_aef18_row4_col3\" class=\"data row4 col3\" >0.023791</td>\n",
       "      <td id=\"T_aef18_row4_col4\" class=\"data row4 col4\" >1.000000</td>\n",
       "      <td id=\"T_aef18_row4_col5\" class=\"data row4 col5\" >-0.014059</td>\n",
       "      <td id=\"T_aef18_row4_col6\" class=\"data row4 col6\" >0.026909</td>\n",
       "      <td id=\"T_aef18_row4_col7\" class=\"data row4 col7\" >-0.025605</td>\n",
       "      <td id=\"T_aef18_row4_col8\" class=\"data row4 col8\" >-0.009790</td>\n",
       "      <td id=\"T_aef18_row4_col9\" class=\"data row4 col9\" >-0.020619</td>\n",
       "    </tr>\n",
       "    <tr>\n",
       "      <th id=\"T_aef18_level0_row5\" class=\"row_heading level0 row5\" >Conductivity</th>\n",
       "      <td id=\"T_aef18_row5_col0\" class=\"data row5 col0\" >0.017192</td>\n",
       "      <td id=\"T_aef18_row5_col1\" class=\"data row5 col1\" >-0.023915</td>\n",
       "      <td id=\"T_aef18_row5_col2\" class=\"data row5 col2\" >0.013831</td>\n",
       "      <td id=\"T_aef18_row5_col3\" class=\"data row5 col3\" >-0.020486</td>\n",
       "      <td id=\"T_aef18_row5_col4\" class=\"data row5 col4\" >-0.014059</td>\n",
       "      <td id=\"T_aef18_row5_col5\" class=\"data row5 col5\" >1.000000</td>\n",
       "      <td id=\"T_aef18_row5_col6\" class=\"data row5 col6\" >0.020966</td>\n",
       "      <td id=\"T_aef18_row5_col7\" class=\"data row5 col7\" >0.001255</td>\n",
       "      <td id=\"T_aef18_row5_col8\" class=\"data row5 col8\" >0.005798</td>\n",
       "      <td id=\"T_aef18_row5_col9\" class=\"data row5 col9\" >-0.008128</td>\n",
       "    </tr>\n",
       "    <tr>\n",
       "      <th id=\"T_aef18_level0_row6\" class=\"row_heading level0 row6\" >Organic_carbon</th>\n",
       "      <td id=\"T_aef18_row6_col0\" class=\"data row6 col0\" >0.040061</td>\n",
       "      <td id=\"T_aef18_row6_col1\" class=\"data row6 col1\" >0.003610</td>\n",
       "      <td id=\"T_aef18_row6_col2\" class=\"data row6 col2\" >0.010242</td>\n",
       "      <td id=\"T_aef18_row6_col3\" class=\"data row6 col3\" >-0.012653</td>\n",
       "      <td id=\"T_aef18_row6_col4\" class=\"data row6 col4\" >0.026909</td>\n",
       "      <td id=\"T_aef18_row6_col5\" class=\"data row6 col5\" >0.020966</td>\n",
       "      <td id=\"T_aef18_row6_col6\" class=\"data row6 col6\" >1.000000</td>\n",
       "      <td id=\"T_aef18_row6_col7\" class=\"data row6 col7\" >-0.012976</td>\n",
       "      <td id=\"T_aef18_row6_col8\" class=\"data row6 col8\" >-0.027308</td>\n",
       "      <td id=\"T_aef18_row6_col9\" class=\"data row6 col9\" >-0.030001</td>\n",
       "    </tr>\n",
       "    <tr>\n",
       "      <th id=\"T_aef18_level0_row7\" class=\"row_heading level0 row7\" >Trihalomethanes</th>\n",
       "      <td id=\"T_aef18_row7_col0\" class=\"data row7 col0\" >0.002994</td>\n",
       "      <td id=\"T_aef18_row7_col1\" class=\"data row7 col1\" >-0.012690</td>\n",
       "      <td id=\"T_aef18_row7_col2\" class=\"data row7 col2\" >-0.008875</td>\n",
       "      <td id=\"T_aef18_row7_col3\" class=\"data row7 col3\" >0.016627</td>\n",
       "      <td id=\"T_aef18_row7_col4\" class=\"data row7 col4\" >-0.025605</td>\n",
       "      <td id=\"T_aef18_row7_col5\" class=\"data row7 col5\" >0.001255</td>\n",
       "      <td id=\"T_aef18_row7_col6\" class=\"data row7 col6\" >-0.012976</td>\n",
       "      <td id=\"T_aef18_row7_col7\" class=\"data row7 col7\" >1.000000</td>\n",
       "      <td id=\"T_aef18_row7_col8\" class=\"data row7 col8\" >-0.021502</td>\n",
       "      <td id=\"T_aef18_row7_col9\" class=\"data row7 col9\" >0.006960</td>\n",
       "    </tr>\n",
       "    <tr>\n",
       "      <th id=\"T_aef18_level0_row8\" class=\"row_heading level0 row8\" >Turbidity</th>\n",
       "      <td id=\"T_aef18_row8_col0\" class=\"data row8 col0\" >-0.036222</td>\n",
       "      <td id=\"T_aef18_row8_col1\" class=\"data row8 col1\" >-0.014449</td>\n",
       "      <td id=\"T_aef18_row8_col2\" class=\"data row8 col2\" >0.019546</td>\n",
       "      <td id=\"T_aef18_row8_col3\" class=\"data row8 col3\" >0.002363</td>\n",
       "      <td id=\"T_aef18_row8_col4\" class=\"data row8 col4\" >-0.009790</td>\n",
       "      <td id=\"T_aef18_row8_col5\" class=\"data row8 col5\" >0.005798</td>\n",
       "      <td id=\"T_aef18_row8_col6\" class=\"data row8 col6\" >-0.027308</td>\n",
       "      <td id=\"T_aef18_row8_col7\" class=\"data row8 col7\" >-0.021502</td>\n",
       "      <td id=\"T_aef18_row8_col8\" class=\"data row8 col8\" >1.000000</td>\n",
       "      <td id=\"T_aef18_row8_col9\" class=\"data row8 col9\" >0.001581</td>\n",
       "    </tr>\n",
       "    <tr>\n",
       "      <th id=\"T_aef18_level0_row9\" class=\"row_heading level0 row9\" >Potability</th>\n",
       "      <td id=\"T_aef18_row9_col0\" class=\"data row9 col0\" >-0.003287</td>\n",
       "      <td id=\"T_aef18_row9_col1\" class=\"data row9 col1\" >-0.013837</td>\n",
       "      <td id=\"T_aef18_row9_col2\" class=\"data row9 col2\" >0.033743</td>\n",
       "      <td id=\"T_aef18_row9_col3\" class=\"data row9 col3\" >0.023779</td>\n",
       "      <td id=\"T_aef18_row9_col4\" class=\"data row9 col4\" >-0.020619</td>\n",
       "      <td id=\"T_aef18_row9_col5\" class=\"data row9 col5\" >-0.008128</td>\n",
       "      <td id=\"T_aef18_row9_col6\" class=\"data row9 col6\" >-0.030001</td>\n",
       "      <td id=\"T_aef18_row9_col7\" class=\"data row9 col7\" >0.006960</td>\n",
       "      <td id=\"T_aef18_row9_col8\" class=\"data row9 col8\" >0.001581</td>\n",
       "      <td id=\"T_aef18_row9_col9\" class=\"data row9 col9\" >1.000000</td>\n",
       "    </tr>\n",
       "  </tbody>\n",
       "</table>\n"
      ],
      "text/plain": [
       "<pandas.io.formats.style.Styler at 0x28300846190>"
      ]
     },
     "execution_count": 31,
     "metadata": {},
     "output_type": "execute_result"
    }
   ],
   "source": [
    "corr = wq.corr()\n",
    "corr.style.background_gradient(cmap='cool')"
   ]
  },
  {
   "cell_type": "code",
   "execution_count": 20,
   "id": "1d34d81e",
   "metadata": {},
   "outputs": [],
   "source": [
    "# Изчисляваме корелациите\n",
    "correlations = wq.corr()\n",
    "\n",
    "# Намираме индексите на силно корелираните колони\n",
    "highly_correlated = set()\n",
    "for i in range(len(correlations.columns)):\n",
    "    for j in range(i):\n",
    "        if abs(correlations.iloc[i, j]) > 0.8:\n",
    "            colname = correlations.columns[i]\n",
    "            highly_correlated.add(colname)\n",
    "\n",
    "# Премахваме силно корелираните колони от DataFrame\n",
    "wq_filtered = wq.drop(columns=highly_correlated)"
   ]
  },
  {
   "cell_type": "code",
   "execution_count": 21,
   "id": "a03a3db3",
   "metadata": {},
   "outputs": [
    {
     "data": {
      "text/html": [
       "<div>\n",
       "<style scoped>\n",
       "    .dataframe tbody tr th:only-of-type {\n",
       "        vertical-align: middle;\n",
       "    }\n",
       "\n",
       "    .dataframe tbody tr th {\n",
       "        vertical-align: top;\n",
       "    }\n",
       "\n",
       "    .dataframe thead th {\n",
       "        text-align: right;\n",
       "    }\n",
       "</style>\n",
       "<table border=\"1\" class=\"dataframe\">\n",
       "  <thead>\n",
       "    <tr style=\"text-align: right;\">\n",
       "      <th></th>\n",
       "      <th>ph</th>\n",
       "      <th>Hardness</th>\n",
       "      <th>Solids</th>\n",
       "      <th>Chloramines</th>\n",
       "      <th>Sulfate</th>\n",
       "      <th>Conductivity</th>\n",
       "      <th>Organic_carbon</th>\n",
       "      <th>Trihalomethanes</th>\n",
       "      <th>Turbidity</th>\n",
       "      <th>Potability</th>\n",
       "    </tr>\n",
       "  </thead>\n",
       "  <tbody>\n",
       "    <tr>\n",
       "      <th>0</th>\n",
       "      <td>7.080795</td>\n",
       "      <td>204.890455</td>\n",
       "      <td>20791.318981</td>\n",
       "      <td>7.300212</td>\n",
       "      <td>368.516441</td>\n",
       "      <td>564.308654</td>\n",
       "      <td>10.379783</td>\n",
       "      <td>86.990970</td>\n",
       "      <td>2.963135</td>\n",
       "      <td>0</td>\n",
       "    </tr>\n",
       "    <tr>\n",
       "      <th>1</th>\n",
       "      <td>3.716080</td>\n",
       "      <td>129.422921</td>\n",
       "      <td>18630.057858</td>\n",
       "      <td>6.635246</td>\n",
       "      <td>333.775777</td>\n",
       "      <td>592.885359</td>\n",
       "      <td>15.180013</td>\n",
       "      <td>56.329076</td>\n",
       "      <td>4.500656</td>\n",
       "      <td>0</td>\n",
       "    </tr>\n",
       "    <tr>\n",
       "      <th>2</th>\n",
       "      <td>8.099124</td>\n",
       "      <td>224.236259</td>\n",
       "      <td>19909.541732</td>\n",
       "      <td>9.275884</td>\n",
       "      <td>333.775777</td>\n",
       "      <td>418.606213</td>\n",
       "      <td>16.868637</td>\n",
       "      <td>66.420093</td>\n",
       "      <td>3.055934</td>\n",
       "      <td>0</td>\n",
       "    </tr>\n",
       "    <tr>\n",
       "      <th>3</th>\n",
       "      <td>8.316766</td>\n",
       "      <td>214.373394</td>\n",
       "      <td>22018.417441</td>\n",
       "      <td>8.059332</td>\n",
       "      <td>356.886136</td>\n",
       "      <td>363.266516</td>\n",
       "      <td>18.436524</td>\n",
       "      <td>100.341674</td>\n",
       "      <td>4.628771</td>\n",
       "      <td>0</td>\n",
       "    </tr>\n",
       "    <tr>\n",
       "      <th>4</th>\n",
       "      <td>9.092223</td>\n",
       "      <td>181.101509</td>\n",
       "      <td>17978.986339</td>\n",
       "      <td>6.546600</td>\n",
       "      <td>310.135738</td>\n",
       "      <td>398.410813</td>\n",
       "      <td>11.558279</td>\n",
       "      <td>31.997993</td>\n",
       "      <td>4.075075</td>\n",
       "      <td>0</td>\n",
       "    </tr>\n",
       "  </tbody>\n",
       "</table>\n",
       "</div>"
      ],
      "text/plain": [
       "         ph    Hardness        Solids  Chloramines     Sulfate  Conductivity  \\\n",
       "0  7.080795  204.890455  20791.318981     7.300212  368.516441    564.308654   \n",
       "1  3.716080  129.422921  18630.057858     6.635246  333.775777    592.885359   \n",
       "2  8.099124  224.236259  19909.541732     9.275884  333.775777    418.606213   \n",
       "3  8.316766  214.373394  22018.417441     8.059332  356.886136    363.266516   \n",
       "4  9.092223  181.101509  17978.986339     6.546600  310.135738    398.410813   \n",
       "\n",
       "   Organic_carbon  Trihalomethanes  Turbidity  Potability  \n",
       "0       10.379783        86.990970   2.963135           0  \n",
       "1       15.180013        56.329076   4.500656           0  \n",
       "2       16.868637        66.420093   3.055934           0  \n",
       "3       18.436524       100.341674   4.628771           0  \n",
       "4       11.558279        31.997993   4.075075           0  "
      ]
     },
     "execution_count": 21,
     "metadata": {},
     "output_type": "execute_result"
    }
   ],
   "source": [
    "wq_filtered.head()"
   ]
  },
  {
   "cell_type": "code",
   "execution_count": 22,
   "id": "647a4131",
   "metadata": {},
   "outputs": [
    {
     "data": {
      "text/plain": [
       "array([0, 1], dtype=int64)"
      ]
     },
     "execution_count": 22,
     "metadata": {},
     "output_type": "execute_result"
    }
   ],
   "source": [
    "wq_filtered['Potability'].unique()"
   ]
  },
  {
   "cell_type": "code",
   "execution_count": 23,
   "id": "3be0abab",
   "metadata": {},
   "outputs": [
    {
     "data": {
      "text/plain": [
       "ph                 float64\n",
       "Hardness           float64\n",
       "Solids             float64\n",
       "Chloramines        float64\n",
       "Sulfate            float64\n",
       "Conductivity       float64\n",
       "Organic_carbon     float64\n",
       "Trihalomethanes    float64\n",
       "Turbidity          float64\n",
       "Potability           int64\n",
       "dtype: object"
      ]
     },
     "execution_count": 23,
     "metadata": {},
     "output_type": "execute_result"
    }
   ],
   "source": [
    "wq_filtered.dtypes"
   ]
  },
  {
   "cell_type": "code",
   "execution_count": 24,
   "id": "5bc44ea4",
   "metadata": {},
   "outputs": [
    {
     "name": "stdout",
     "output_type": "stream",
     "text": [
      "0.3901098901098901\n"
     ]
    }
   ],
   "source": [
    "good_potability = wq['Potability'].mean()\n",
    "print(good_potability)"
   ]
  },
  {
   "cell_type": "markdown",
   "id": "d8f7eedc",
   "metadata": {},
   "source": [
    "Изчислява средната стойност на колоната \"Питателност\" в рамката с данни wq, като се насочва по-специално към двоичната променлива, указваща дали водата е питейна или не (1 за питейна, 0 за непитейна). Резултатът се съхранява в променливата good_potability и представлява делът на екземплярите, обозначени като \"Potable\" в набора от данни."
   ]
  },
  {
   "cell_type": "code",
   "execution_count": 25,
   "id": "4563362e",
   "metadata": {},
   "outputs": [],
   "source": [
    "Y = wq_filtered['Potability']"
   ]
  },
  {
   "cell_type": "markdown",
   "id": "bb78d3ef",
   "metadata": {},
   "source": [
    "Извличаме колоната \"Potability\" от DataFrame wq_filtered и я присвоява на променлива Y. Това обикновено означава, че \"Y\" е целевата променлива, често използвана в контекста на машинното обучение или статистическото моделиране, където тя представлява променливата, която трябва да бъде предсказана."
   ]
  },
  {
   "cell_type": "code",
   "execution_count": 39,
   "id": "4e403c6c",
   "metadata": {},
   "outputs": [],
   "source": [
    "scaler = StandardScaler()\n",
    "\n",
    "# Извличане на функционалните променливи\n",
    "X = wq_filtered.drop('Potability',axis=1)\n",
    "\n",
    "# Подготовка и стандартизация на данните\n",
    "scaler.fit(X)\n",
    "X_standard = scaler.transform(X)"
   ]
  },
  {
   "cell_type": "markdown",
   "id": "dd73e2a6",
   "metadata": {},
   "source": [
    "Включваме използването на StandardScaler от библиотеката scikit-learn за стандартизиране на характеристиките в набора от данни. Това е стъпка от предварителната обработка при машинното обучение, при която данните се трансформират така, че да имат средна стойност 0 и стандартно отклонение 1."
   ]
  },
  {
   "cell_type": "code",
   "execution_count": 27,
   "id": "0ae9f5f0",
   "metadata": {},
   "outputs": [],
   "source": [
    "X_train, X_test, Y_train, Y_test = train_test_split(X_standard, Y, test_size=0.20,random_state=123)"
   ]
  },
  {
   "cell_type": "markdown",
   "id": "bfc24b03",
   "metadata": {},
   "source": [
    "Използва функцията train_test_split от scikit-learn, за да раздели стандартизирания набор от признаци (X_standard) и целевата променлива (Y) на набори за обучение и тестване. "
   ]
  },
  {
   "cell_type": "code",
   "execution_count": 28,
   "id": "9c08063d",
   "metadata": {},
   "outputs": [
    {
     "data": {
      "text/html": [
       "<style>#sk-container-id-1 {color: black;}#sk-container-id-1 pre{padding: 0;}#sk-container-id-1 div.sk-toggleable {background-color: white;}#sk-container-id-1 label.sk-toggleable__label {cursor: pointer;display: block;width: 100%;margin-bottom: 0;padding: 0.3em;box-sizing: border-box;text-align: center;}#sk-container-id-1 label.sk-toggleable__label-arrow:before {content: \"▸\";float: left;margin-right: 0.25em;color: #696969;}#sk-container-id-1 label.sk-toggleable__label-arrow:hover:before {color: black;}#sk-container-id-1 div.sk-estimator:hover label.sk-toggleable__label-arrow:before {color: black;}#sk-container-id-1 div.sk-toggleable__content {max-height: 0;max-width: 0;overflow: hidden;text-align: left;background-color: #f0f8ff;}#sk-container-id-1 div.sk-toggleable__content pre {margin: 0.2em;color: black;border-radius: 0.25em;background-color: #f0f8ff;}#sk-container-id-1 input.sk-toggleable__control:checked~div.sk-toggleable__content {max-height: 200px;max-width: 100%;overflow: auto;}#sk-container-id-1 input.sk-toggleable__control:checked~label.sk-toggleable__label-arrow:before {content: \"▾\";}#sk-container-id-1 div.sk-estimator input.sk-toggleable__control:checked~label.sk-toggleable__label {background-color: #d4ebff;}#sk-container-id-1 div.sk-label input.sk-toggleable__control:checked~label.sk-toggleable__label {background-color: #d4ebff;}#sk-container-id-1 input.sk-hidden--visually {border: 0;clip: rect(1px 1px 1px 1px);clip: rect(1px, 1px, 1px, 1px);height: 1px;margin: -1px;overflow: hidden;padding: 0;position: absolute;width: 1px;}#sk-container-id-1 div.sk-estimator {font-family: monospace;background-color: #f0f8ff;border: 1px dotted black;border-radius: 0.25em;box-sizing: border-box;margin-bottom: 0.5em;}#sk-container-id-1 div.sk-estimator:hover {background-color: #d4ebff;}#sk-container-id-1 div.sk-parallel-item::after {content: \"\";width: 100%;border-bottom: 1px solid gray;flex-grow: 1;}#sk-container-id-1 div.sk-label:hover label.sk-toggleable__label {background-color: #d4ebff;}#sk-container-id-1 div.sk-serial::before {content: \"\";position: absolute;border-left: 1px solid gray;box-sizing: border-box;top: 0;bottom: 0;left: 50%;z-index: 0;}#sk-container-id-1 div.sk-serial {display: flex;flex-direction: column;align-items: center;background-color: white;padding-right: 0.2em;padding-left: 0.2em;position: relative;}#sk-container-id-1 div.sk-item {position: relative;z-index: 1;}#sk-container-id-1 div.sk-parallel {display: flex;align-items: stretch;justify-content: center;background-color: white;position: relative;}#sk-container-id-1 div.sk-item::before, #sk-container-id-1 div.sk-parallel-item::before {content: \"\";position: absolute;border-left: 1px solid gray;box-sizing: border-box;top: 0;bottom: 0;left: 50%;z-index: -1;}#sk-container-id-1 div.sk-parallel-item {display: flex;flex-direction: column;z-index: 1;position: relative;background-color: white;}#sk-container-id-1 div.sk-parallel-item:first-child::after {align-self: flex-end;width: 50%;}#sk-container-id-1 div.sk-parallel-item:last-child::after {align-self: flex-start;width: 50%;}#sk-container-id-1 div.sk-parallel-item:only-child::after {width: 0;}#sk-container-id-1 div.sk-dashed-wrapped {border: 1px dashed gray;margin: 0 0.4em 0.5em 0.4em;box-sizing: border-box;padding-bottom: 0.4em;background-color: white;}#sk-container-id-1 div.sk-label label {font-family: monospace;font-weight: bold;display: inline-block;line-height: 1.2em;}#sk-container-id-1 div.sk-label-container {text-align: center;}#sk-container-id-1 div.sk-container {/* jupyter's `normalize.less` sets `[hidden] { display: none; }` but bootstrap.min.css set `[hidden] { display: none !important; }` so we also need the `!important` here to be able to override the default hidden behavior on the sphinx rendered scikit-learn.org. See: https://github.com/scikit-learn/scikit-learn/issues/21755 */display: inline-block !important;position: relative;}#sk-container-id-1 div.sk-text-repr-fallback {display: none;}</style><div id=\"sk-container-id-1\" class=\"sk-top-container\"><div class=\"sk-text-repr-fallback\"><pre>LogisticRegression(random_state=16)</pre><b>In a Jupyter environment, please rerun this cell to show the HTML representation or trust the notebook. <br />On GitHub, the HTML representation is unable to render, please try loading this page with nbviewer.org.</b></div><div class=\"sk-container\" hidden><div class=\"sk-item\"><div class=\"sk-estimator sk-toggleable\"><input class=\"sk-toggleable__control sk-hidden--visually\" id=\"sk-estimator-id-1\" type=\"checkbox\" checked><label for=\"sk-estimator-id-1\" class=\"sk-toggleable__label sk-toggleable__label-arrow\">LogisticRegression</label><div class=\"sk-toggleable__content\"><pre>LogisticRegression(random_state=16)</pre></div></div></div></div></div>"
      ],
      "text/plain": [
       "LogisticRegression(random_state=16)"
      ]
     },
     "execution_count": 28,
     "metadata": {},
     "output_type": "execute_result"
    }
   ],
   "source": [
    "regresor = LogisticRegression(random_state=16)\n",
    "regresor.fit(X_train, Y_train)"
   ]
  },
  {
   "cell_type": "markdown",
   "id": "9a1d4282",
   "metadata": {},
   "source": [
    "Използва алгоритъма за логистична регресия за класификация с помощта на scikit-learn. По-конкретно, той създава модел на логистична регресия (regresor) и го обучава, като използва обучаващите множества (X_train и Y_train)."
   ]
  },
  {
   "cell_type": "code",
   "execution_count": 38,
   "id": "363bff57",
   "metadata": {},
   "outputs": [
    {
     "name": "stdout",
     "output_type": "stream",
     "text": [
      "Logistic Regression model accuracy (in %): 60.0609756097561\n"
     ]
    }
   ],
   "source": [
    "# Предсказание\n",
    "y_pred = regresor.predict(X_test)\n",
    " \n",
    "acc = accuracy_score(Y_test, y_pred)\n",
    "print(\"Logistic Regression model accuracy (in %):\", acc*100)"
   ]
  },
  {
   "cell_type": "markdown",
   "id": "6855395f",
   "metadata": {},
   "source": [
    "Изготвя прогнози с помощта на обучен модел на логистична регресия (regresor) върху тестовото множество (X_test) и оценява неговата точност."
   ]
  },
  {
   "cell_type": "markdown",
   "id": "ca976d2b",
   "metadata": {},
   "source": [
    "# Заключение"
   ]
  },
  {
   "cell_type": "markdown",
   "id": "7142ad1c",
   "metadata": {},
   "source": [
    "Нашият анализ на набора от данни за качеството на водата разкри важни прозрения за параметри като pH и разтворени твърди вещества, като използвахме логистична регресия за предсказване на годността на водата с обещаваща точност. Въпреки това сложността, присъща на динамиката на качеството на водата, надхвърля сегашното разбиране на модела.\n",
    "\n",
    "За да оптимизираме нашия анализ, опростихме набора от данни и стандартизирахме характеристиките. Въпреки това са необходими непрекъснати усилия за непрекъснато усъвършенстване на модела, за да се постигне по-нюансирано разбиране и подобрена точност на прогнозиране. "
   ]
  }
 ],
 "metadata": {
  "kernelspec": {
   "display_name": "Python 3 (ipykernel)",
   "language": "python",
   "name": "python3"
  },
  "language_info": {
   "codemirror_mode": {
    "name": "ipython",
    "version": 3
   },
   "file_extension": ".py",
   "mimetype": "text/x-python",
   "name": "python",
   "nbconvert_exporter": "python",
   "pygments_lexer": "ipython3",
   "version": "3.11.5"
  }
 },
 "nbformat": 4,
 "nbformat_minor": 5
}
